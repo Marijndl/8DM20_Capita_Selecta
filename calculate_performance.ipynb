{
 "cells": [
  {
   "cell_type": "code",
   "execution_count": 33,
   "metadata": {
    "collapsed": true
   },
   "outputs": [],
   "source": [
    "from __future__ import print_function, absolute_import\n",
    "\n",
    "import os\n",
    "import warnings\n",
    "import SimpleITK as sitk\n",
    "import numpy as np\n",
    "from tqdm import tqdm  # Import tqdm for progress bars\n",
    "from atlas_registration_functions import register_transform\n",
    "\n",
    "warnings.filterwarnings(\"ignore\", category=DeprecationWarning)\n",
    "\n",
    "# Paths\n",
    "ELASTIX_PATH = r'D:\\Elastix\\elastix.exe'\n",
    "TRANSFORMIX_PATH = r'D:\\Elastix\\transformix.exe'\n",
    "DATA_PATH = r'D:\\capita_selecta\\DevelopmentData\\DevelopmentData'\n",
    "OUTPUT_DIR = r'D:\\capita_selecta\\results_experiments'\n",
    "\n",
    "if not os.path.exists(ELASTIX_PATH):\n",
    "    raise IOError('Elastix cannot be found, please set the correct ELASTIX_PATH.')\n",
    "if not os.path.exists(TRANSFORMIX_PATH):\n",
    "    raise IOError('Transformix cannot be found, please set the correct TRANSFORMIX_PATH.')\n",
    "\n",
    "def calc_dice(true_del, est_del):\n",
    "    # Ensure the arrays are binary (0s and 1s)\n",
    "    true_del = (true_del > 0).astype(np.uint8)\n",
    "    est_del = (est_del > 0).astype(np.uint8)\n",
    "\n",
    "    intersection = np.sum(true_del * est_del)\n",
    "    size1 = np.sum(true_del)\n",
    "    size2 = np.sum(est_del)\n",
    "\n",
    "    if size1 + size2 == 0:\n",
    "        return 1.0  # If both are empty, define DICE as 1.0 (perfect match)\n",
    "\n",
    "    return 2.0 * intersection / (size1 + size2)"
   ]
  },
  {
   "cell_type": "code",
   "execution_count": 34,
   "outputs": [
    {
     "name": "stdout",
     "output_type": "stream",
     "text": [
      "Patient p116 registration reached a dice score of: 0.034\n",
      "Patient p117 registration reached a dice score of: 0.429\n"
     ]
    }
   ],
   "source": [
    "# Get patient names and select atlas patients\n",
    "patient_list = [patient for patient in os.listdir(DATA_PATH) if os.path.isdir(os.path.join(DATA_PATH, patient))]\n",
    "atlas_patients = patient_list[:5]\n",
    "register_patients = [patient[8:-4] for patient in os.listdir(OUTPUT_DIR) if patient.startswith(\"reg_maj_\") and patient.endswith(\".mhd\")]\n",
    "\n",
    "true_delineations = []\n",
    "est_delineations = []\n",
    "\n",
    "for patient in register_patients:\n",
    "    true_delineation = os.path.join(DATA_PATH, patient, 'prostaat.mhd')\n",
    "    est_delineation = os.path.join(OUTPUT_DIR, f'reg_maj_{patient}.mhd')\n",
    "\n",
    "    true_delineation_image = sitk.ReadImage(true_delineation)\n",
    "    est_delineation_image = sitk.ReadImage(est_delineation)\n",
    "\n",
    "    true_delineations.append(sitk.GetArrayFromImage(true_delineation_image))\n",
    "    est_delineations.append(sitk.GetArrayFromImage(est_delineation_image))\n",
    "\n",
    "dice_scores = []\n",
    "\n",
    "for i in range(len(true_delineations)):\n",
    "    dice_score = calc_dice(true_delineations[i], est_delineations[i])\n",
    "    print(f\"Patient {register_patients[i]} registration reached a dice score of: {dice_score:.3f}\")\n",
    "    dice_scores.append(dice_score)\n"
   ],
   "metadata": {
    "collapsed": false
   }
  }
 ],
 "metadata": {
  "kernelspec": {
   "display_name": "Python 3",
   "language": "python",
   "name": "python3"
  },
  "language_info": {
   "codemirror_mode": {
    "name": "ipython",
    "version": 2
   },
   "file_extension": ".py",
   "mimetype": "text/x-python",
   "name": "python",
   "nbconvert_exporter": "python",
   "pygments_lexer": "ipython2",
   "version": "2.7.6"
  }
 },
 "nbformat": 4,
 "nbformat_minor": 0
}
