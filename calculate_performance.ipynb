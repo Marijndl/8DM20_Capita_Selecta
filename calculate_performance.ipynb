{
 "cells": [
  {
   "cell_type": "code",
   "metadata": {
    "collapsed": true,
    "ExecuteTime": {
     "end_time": "2025-02-24T15:27:58.439671Z",
     "start_time": "2025-02-24T15:27:58.402672Z"
    }
   },
   "source": [
    "from __future__ import print_function, absolute_import\n",
    "\n",
    "import os\n",
    "import warnings\n",
    "\n",
    "import SimpleITK as sitk\n",
    "import ipywidgets as widgets\n",
    "import matplotlib.pyplot as plt\n",
    "import numpy as np\n",
    "from IPython.display import display\n",
    "\n",
    "%matplotlib notebook\n",
    "\n",
    "# from atlas_registration_functions import registrate_atlas_patient\n",
    "\n",
    "warnings.filterwarnings(\"ignore\", category=DeprecationWarning)\n",
    "\n",
    "# Paths\n",
    "paths = open(os.getcwd() + r\"\\\\paths.txt\").read().splitlines()\n",
    "ELASTIX_PATH, TRANSFORMIX_PATH, DATA_PATH ,OUTPUT_DIR = paths\n",
    "\n",
    "\n",
    "if not os.path.exists(ELASTIX_PATH):\n",
    "    raise IOError('Elastix cannot be found, please set the correct ELASTIX_PATH.')\n",
    "if not os.path.exists(TRANSFORMIX_PATH):\n",
    "    raise IOError('Transformix cannot be found, please set the correct TRANSFORMIX_PATH.')\n",
    "\n",
    "\n",
    "def calc_dice(true_del, est_del):\n",
    "    # Ensure the arrays are binary (0s and 1s)\n",
    "    true_del = (true_del > 0).astype(np.uint8)\n",
    "    est_del = (est_del > 0).astype(np.uint8)\n",
    "\n",
    "    intersection = np.sum(true_del * est_del)\n",
    "    size1 = np.sum(true_del)\n",
    "    size2 = np.sum(est_del)\n",
    "\n",
    "    if size1 + size2 == 0:\n",
    "        return 1.0  # If both are empty, define DICE as 1.0 (perfect match)\n",
    "\n",
    "    return 2.0 * intersection / (size1 + size2)"
   ],
   "outputs": [],
   "execution_count": 15
  },
  {
   "cell_type": "code",
   "metadata": {
    "collapsed": false,
    "ExecuteTime": {
     "end_time": "2025-02-24T15:28:01.206806Z",
     "start_time": "2025-02-24T15:27:59.964811Z"
    }
   },
   "source": [
    "# Get patient names and select atlas patients\n",
    "patient_list = [patient for patient in os.listdir(DATA_PATH) if os.path.isdir(os.path.join(DATA_PATH, patient))]\n",
    "print(os.listdir(OUTPUT_DIR))\n",
    "# atlas_patients = patient_list[:5]\n",
    "atlas_patients = [\"p102\", \"p108\", \"p109\"]\n",
    "register_patients = [patient[8:-4] for patient in os.listdir(OUTPUT_DIR) if\n",
    "                     patient.startswith(\"reg_maj_\") and patient.endswith(\".mhd\")]\n",
    "# print(register_patients)\n",
    "true_delineations = []\n",
    "est_delineations = []\n",
    "\n",
    "for patient in register_patients:\n",
    "    true_delineation = os.path.join(DATA_PATH, patient, 'prostaat.mhd')\n",
    "    est_delineation = os.path.join(OUTPUT_DIR, f'reg_maj_{patient}.mhd')\n",
    "\n",
    "    true_delineation_image = sitk.ReadImage(true_delineation)\n",
    "    est_delineation_image = sitk.ReadImage(est_delineation)\n",
    "\n",
    "    true_delineations.append(sitk.GetArrayFromImage(true_delineation_image))\n",
    "    est_delineations.append(sitk.GetArrayFromImage(est_delineation_image))\n",
    "\n",
    "dice_scores = []\n",
    "for i in range(len(true_delineations)):\n",
    "    dice_score = calc_dice(true_delineations[i], est_delineations[i])\n",
    "    print(f\"Patient {register_patients[i]} registration reached a dice score of: {dice_score:.3f}\")\n",
    "    dice_scores.append(dice_score)"
   ],
   "outputs": [
    {
     "name": "stdout",
     "output_type": "stream",
     "text": [
      "['reg_maj_p107.mhd', 'reg_maj_p107.raw', 'reg_maj_p115.mhd', 'reg_maj_p115.raw', 'reg_maj_p116.mhd', 'reg_maj_p116.raw', 'reg_maj_p117.mhd', 'reg_maj_p117.raw', 'reg_maj_p119.mhd', 'reg_maj_p119.raw', 'reg_maj_p120.mhd', 'reg_maj_p120.raw', 'reg_maj_p125.mhd', 'reg_maj_p125.raw', 'reg_maj_p127.mhd', 'reg_maj_p127.raw', 'reg_maj_p128.mhd', 'reg_maj_p128.raw', 'reg_maj_p129.mhd', 'reg_maj_p129.raw', 'reg_maj_p133.mhd', 'reg_maj_p133.raw', 'reg_maj_p135.mhd', 'reg_maj_p135.raw', 'reg_p107_p102', 'reg_p107_p108', 'reg_p107_p109', 'reg_p115_p102', 'reg_p115_p108', 'reg_p115_p109', 'reg_p116_p102', 'reg_p116_p108', 'reg_p116_p109', 'reg_p117_p102', 'reg_p117_p108', 'reg_p117_p109', 'reg_p119_p102', 'reg_p119_p108', 'reg_p119_p109', 'reg_p120_p102', 'reg_p120_p108', 'reg_p120_p109', 'reg_p125_p102', 'reg_p125_p108', 'reg_p125_p109', 'reg_p127_p102', 'reg_p127_p108', 'reg_p127_p109', 'reg_p128_p102', 'reg_p128_p108', 'reg_p128_p109', 'reg_p129_p102', 'reg_p129_p108', 'reg_p129_p109', 'reg_p133_p102', 'reg_p133_p108', 'reg_p133_p109', 'reg_p135_p102', 'reg_p135_p108', 'reg_p135_p109']\n",
      "Patient p107 registration reached a dice score of: 0.693\n",
      "Patient p115 registration reached a dice score of: 0.461\n",
      "Patient p116 registration reached a dice score of: 0.706\n",
      "Patient p117 registration reached a dice score of: 0.638\n",
      "Patient p119 registration reached a dice score of: 0.663\n",
      "Patient p120 registration reached a dice score of: 0.730\n",
      "Patient p125 registration reached a dice score of: 0.677\n",
      "Patient p127 registration reached a dice score of: 0.690\n",
      "Patient p128 registration reached a dice score of: 0.706\n",
      "Patient p129 registration reached a dice score of: 0.603\n",
      "Patient p133 registration reached a dice score of: 0.693\n",
      "Patient p135 registration reached a dice score of: 0.558\n"
     ]
    }
   ],
   "execution_count": 16
  },
  {
   "cell_type": "markdown",
   "metadata": {
    "collapsed": false
   },
   "source": [
    "# Show results"
   ]
  },
  {
   "cell_type": "code",
   "execution_count": null,
   "metadata": {
    "collapsed": false
   },
   "outputs": [],
   "source": [
    "# Get patient names and select registered patients\n",
    "patient_list = [patient for patient in os.listdir(DATA_PATH) if os.path.isdir(os.path.join(DATA_PATH, patient))]\n",
    "register_patients = [patient[8:-4] for patient in os.listdir(OUTPUT_DIR) if\n",
    "                     patient.startswith(\"reg_maj_\") and patient.endswith(\".mhd\")]\n",
    "\n",
    "# Load images\n",
    "true_delineations = []\n",
    "est_delineations = []\n",
    "\n",
    "for patient in register_patients[:5]:  # Limit to 5 patients\n",
    "    true_delineation_path = os.path.join(DATA_PATH, patient, 'prostaat.mhd')\n",
    "    est_delineation_path = os.path.join(OUTPUT_DIR, f'reg_maj_{patient}.mhd')\n",
    "\n",
    "    true_delineation_image = sitk.ReadImage(true_delineation_path)\n",
    "    est_delineation_image = sitk.ReadImage(est_delineation_path)\n",
    "\n",
    "    true_delineations.append(sitk.GetArrayFromImage(true_delineation_image))\n",
    "    est_delineations.append(sitk.GetArrayFromImage(est_delineation_image))\n",
    "\n",
    "# Get image depth (number of slices)\n",
    "num_slices = true_delineations[0].shape[0]  # Assumes all images have the same depth\n",
    "\n",
    "# Create the figure and axes\n",
    "fig, axes = plt.subplots(2, len(true_delineations), figsize=(2.5 * len(true_delineations), 5))\n",
    "\n",
    "# Initial display with the middle slice\n",
    "initial_slice = num_slices // 2\n",
    "image_plots = []\n",
    "\n",
    "for patient_id in range(len(true_delineations)):\n",
    "    img1 = axes[0, patient_id].imshow(true_delineations[patient_id][initial_slice, :, :], cmap='gray')\n",
    "    axes[0, patient_id].set_title(f'True ({register_patients[patient_id]})', fontsize=10)\n",
    "    axes[0, patient_id].axis('off')\n",
    "\n",
    "    img2 = axes[1, patient_id].imshow(est_delineations[patient_id][initial_slice, :, :], cmap='gray')\n",
    "    axes[1, patient_id].set_title(f'Estimated ({register_patients[patient_id]})', fontsize=10)\n",
    "    axes[1, patient_id].axis('off')\n",
    "\n",
    "    image_plots.append((img1, img2))\n",
    "\n",
    "plt.tight_layout()\n",
    "\n",
    "# Define slider\n",
    "slice_slider = widgets.IntSlider(min=0, max=num_slices - 1, step=1, value=initial_slice, description=\"Slice\")\n",
    "\n",
    "def update(slice_idx):\n",
    "    \"\"\"Update function for interactive slider.\"\"\"\n",
    "    for patient_id in range(len(true_delineations)):\n",
    "        image_plots[patient_id][0].set_data(true_delineations[patient_id][slice_idx, :, :])\n",
    "        image_plots[patient_id][1].set_data(est_delineations[patient_id][slice_idx, :, :])\n",
    "    fig.canvas.draw_idle()\n",
    "    plt.pause(0.1)  # Forces an update\n",
    "\n",
    "# Create interactive widget\n",
    "interactive_plot = widgets.interactive(update, slice_idx=slice_slider)\n",
    "\n",
    "# Display the interactive widget\n",
    "display(interactive_plot)\n",
    "\n",
    "plt.show()"
   ]
  }
 ],
 "metadata": {
  "kernelspec": {
   "display_name": "Python 3",
   "language": "python",
   "name": "python3"
  },
  "language_info": {
   "codemirror_mode": {
    "name": "ipython",
    "version": 3
   },
   "file_extension": ".py",
   "mimetype": "text/x-python",
   "name": "python",
   "nbconvert_exporter": "python",
   "pygments_lexer": "ipython3",
   "version": "3.10.5"
  }
 },
 "nbformat": 4,
 "nbformat_minor": 0
}
