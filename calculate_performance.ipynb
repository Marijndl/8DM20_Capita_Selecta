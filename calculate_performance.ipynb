{
 "cells": [
  {
   "cell_type": "code",
   "execution_count": 1,
   "metadata": {
    "collapsed": true
   },
   "outputs": [],
   "source": [
    "from __future__ import print_function, absolute_import\n",
    "\n",
    "import os\n",
    "import warnings\n",
    "\n",
    "import SimpleITK as sitk\n",
    "import ipywidgets as widgets\n",
    "import matplotlib.pyplot as plt\n",
    "import numpy as np\n",
    "from IPython.display import display\n",
    "\n",
    "%matplotlib notebook\n",
    "\n",
    "# from atlas_registration_functions import registrate_atlas_patient\n",
    "\n",
    "warnings.filterwarnings(\"ignore\", category=DeprecationWarning)\n",
    "\n",
    "# Paths\n",
    "paths = open(os.getcwd() + r\"\\\\paths.txt\").read().splitlines()\n",
    "ELASTIX_PATH, TRANSFORMIX_PATH, DATA_PATH ,OUTPUT_DIR = paths\n",
    "\n",
    "\n",
    "if not os.path.exists(ELASTIX_PATH):\n",
    "    raise IOError('Elastix cannot be found, please set the correct ELASTIX_PATH.')\n",
    "if not os.path.exists(TRANSFORMIX_PATH):\n",
    "    raise IOError('Transformix cannot be found, please set the correct TRANSFORMIX_PATH.')\n",
    "\n",
    "\n",
    "def calc_dice(true_del, est_del):\n",
    "    # Ensure the arrays are binary (0s and 1s)\n",
    "    true_del = (true_del > 0).astype(np.uint8)\n",
    "    est_del = (est_del > 0).astype(np.uint8)\n",
    "\n",
    "    intersection = np.sum(true_del * est_del)\n",
    "    size1 = np.sum(true_del)\n",
    "    size2 = np.sum(est_del)\n",
    "\n",
    "    if size1 + size2 == 0:\n",
    "        return 1.0  # If both are empty, define DICE as 1.0 (perfect match)\n",
    "\n",
    "    return 2.0 * intersection / (size1 + size2)"
   ]
  },
  {
   "cell_type": "code",
   "execution_count": 2,
   "metadata": {
    "collapsed": false
   },
   "outputs": [
    {
     "name": "stdout",
     "output_type": "stream",
     "text": [
      "[]\n"
     ]
    }
   ],
   "source": [
    "# Get patient names and select atlas patients\n",
    "patient_list = [patient for patient in os.listdir(DATA_PATH) if os.path.isdir(os.path.join(DATA_PATH, patient))]\n",
    "print(os.listdir(OUTPUT_DIR))\n",
    "# atlas_patients = patient_list[:5]\n",
    "atlas_patients = [\"p102\", \"p108\", \"p109\"]\n",
    "register_patients = [patient[8:-4] for patient in os.listdir(OUTPUT_DIR) if\n",
    "                     patient.startswith(\"reg_maj_\") and patient.endswith(\".mhd\")]\n",
    "# print(register_patients)\n",
    "true_delineations = []\n",
    "est_delineations = []\n",
    "\n",
    "for patient in register_patients:\n",
    "    true_delineation = os.path.join(DATA_PATH, patient, 'prostaat.mhd')\n",
    "    est_delineation = os.path.join(OUTPUT_DIR, f'reg_maj_{patient}.mhd')\n",
    "\n",
    "    true_delineation_image = sitk.ReadImage(true_delineation)\n",
    "    est_delineation_image = sitk.ReadImage(est_delineation)\n",
    "\n",
    "    true_delineations.append(sitk.GetArrayFromImage(true_delineation_image))\n",
    "    est_delineations.append(sitk.GetArrayFromImage(est_delineation_image))\n",
    "\n",
    "dice_scores = []\n",
    "for i in range(len(true_delineations)):\n",
    "    dice_score = calc_dice(true_delineations[i], est_delineations[i])\n",
    "    print(f\"Patient {register_patients[i]} registration reached a dice score of: {dice_score:.3f}\")\n",
    "    dice_scores.append(dice_score)"
   ]
  },
  {
   "cell_type": "markdown",
   "metadata": {
    "collapsed": false
   },
   "source": [
    "# Show results"
   ]
  },
  {
   "cell_type": "code",
   "execution_count": 3,
   "metadata": {
    "collapsed": false
   },
   "outputs": [
    {
     "ename": "IndexError",
     "evalue": "list index out of range",
     "output_type": "error",
     "traceback": [
      "\u001b[1;31m---------------------------------------------------------------------------\u001b[0m",
      "\u001b[1;31mIndexError\u001b[0m                                Traceback (most recent call last)",
      "Cell \u001b[1;32mIn[3], line 21\u001b[0m\n\u001b[0;32m     18\u001b[0m     est_delineations\u001b[38;5;241m.\u001b[39mappend(sitk\u001b[38;5;241m.\u001b[39mGetArrayFromImage(est_delineation_image))\n\u001b[0;32m     20\u001b[0m \u001b[38;5;66;03m# Get image depth (number of slices)\u001b[39;00m\n\u001b[1;32m---> 21\u001b[0m num_slices \u001b[38;5;241m=\u001b[39m \u001b[43mtrue_delineations\u001b[49m\u001b[43m[\u001b[49m\u001b[38;5;241;43m0\u001b[39;49m\u001b[43m]\u001b[49m\u001b[38;5;241m.\u001b[39mshape[\u001b[38;5;241m0\u001b[39m]  \u001b[38;5;66;03m# Assumes all images have the same depth\u001b[39;00m\n\u001b[0;32m     23\u001b[0m \u001b[38;5;66;03m# Create the figure and axes\u001b[39;00m\n\u001b[0;32m     24\u001b[0m fig, axes \u001b[38;5;241m=\u001b[39m plt\u001b[38;5;241m.\u001b[39msubplots(\u001b[38;5;241m2\u001b[39m, \u001b[38;5;28mlen\u001b[39m(true_delineations), figsize\u001b[38;5;241m=\u001b[39m(\u001b[38;5;241m2.5\u001b[39m \u001b[38;5;241m*\u001b[39m \u001b[38;5;28mlen\u001b[39m(true_delineations), \u001b[38;5;241m5\u001b[39m))\n",
      "\u001b[1;31mIndexError\u001b[0m: list index out of range"
     ]
    }
   ],
   "source": [
    "# Get patient names and select registered patients\n",
    "patient_list = [patient for patient in os.listdir(DATA_PATH) if os.path.isdir(os.path.join(DATA_PATH, patient))]\n",
    "register_patients = [patient[8:-4] for patient in os.listdir(OUTPUT_DIR) if\n",
    "                     patient.startswith(\"reg_maj_\") and patient.endswith(\".mhd\")]\n",
    "\n",
    "# Load images\n",
    "true_delineations = []\n",
    "est_delineations = []\n",
    "\n",
    "for patient in register_patients[:5]:  # Limit to 5 patients\n",
    "    true_delineation_path = os.path.join(DATA_PATH, patient, 'prostaat.mhd')\n",
    "    est_delineation_path = os.path.join(OUTPUT_DIR, f'reg_maj_{patient}.mhd')\n",
    "\n",
    "    true_delineation_image = sitk.ReadImage(true_delineation_path)\n",
    "    est_delineation_image = sitk.ReadImage(est_delineation_path)\n",
    "\n",
    "    true_delineations.append(sitk.GetArrayFromImage(true_delineation_image))\n",
    "    est_delineations.append(sitk.GetArrayFromImage(est_delineation_image))\n",
    "\n",
    "# Get image depth (number of slices)\n",
    "num_slices = true_delineations[0].shape[0]  # Assumes all images have the same depth\n",
    "\n",
    "# Create the figure and axes\n",
    "fig, axes = plt.subplots(2, len(true_delineations), figsize=(2.5 * len(true_delineations), 5))\n",
    "\n",
    "# Initial display with the middle slice\n",
    "initial_slice = num_slices // 2\n",
    "image_plots = []\n",
    "\n",
    "for patient_id in range(len(true_delineations)):\n",
    "    img1 = axes[0, patient_id].imshow(true_delineations[patient_id][initial_slice, :, :], cmap='gray')\n",
    "    axes[0, patient_id].set_title(f'True ({register_patients[patient_id]})', fontsize=10)\n",
    "    axes[0, patient_id].axis('off')\n",
    "\n",
    "    img2 = axes[1, patient_id].imshow(est_delineations[patient_id][initial_slice, :, :], cmap='gray')\n",
    "    axes[1, patient_id].set_title(f'Estimated ({register_patients[patient_id]})', fontsize=10)\n",
    "    axes[1, patient_id].axis('off')\n",
    "\n",
    "    image_plots.append((img1, img2))\n",
    "\n",
    "plt.tight_layout()\n",
    "\n",
    "# Define slider\n",
    "slice_slider = widgets.IntSlider(min=0, max=num_slices - 1, step=1, value=initial_slice, description=\"Slice\")\n",
    "\n",
    "def update(slice_idx):\n",
    "    \"\"\"Update function for interactive slider.\"\"\"\n",
    "    for patient_id in range(len(true_delineations)):\n",
    "        image_plots[patient_id][0].set_data(true_delineations[patient_id][slice_idx, :, :])\n",
    "        image_plots[patient_id][1].set_data(est_delineations[patient_id][slice_idx, :, :])\n",
    "    fig.canvas.draw_idle()\n",
    "    plt.pause(0.1)  # Forces an update\n",
    "\n",
    "# Create interactive widget\n",
    "interactive_plot = widgets.interactive(update, slice_idx=slice_slider)\n",
    "\n",
    "# Display the interactive widget\n",
    "display(interactive_plot)\n",
    "\n",
    "plt.show()"
   ]
  }
 ],
 "metadata": {
  "kernelspec": {
   "display_name": "8p361",
   "language": "python",
   "name": "python3"
  },
  "language_info": {
   "codemirror_mode": {
    "name": "ipython",
    "version": 3
   },
   "file_extension": ".py",
   "mimetype": "text/x-python",
   "name": "python",
   "nbconvert_exporter": "python",
   "pygments_lexer": "ipython3",
   "version": "3.8.18"
  }
 },
 "nbformat": 4,
 "nbformat_minor": 0
}
