{
 "cells": [
  {
   "cell_type": "code",
   "execution_count": 22,
   "metadata": {
    "collapsed": true
   },
   "outputs": [],
   "source": [
    "from __future__ import print_function, absolute_import\n",
    "\n",
    "import ipywidgets as widgets\n",
    "from IPython.display import display\n",
    "import elastix\n",
    "import matplotlib.pyplot as plt\n",
    "import os\n",
    "import SimpleITK as sitk\n",
    "import warnings\n",
    "\n",
    "%matplotlib notebook\n",
    "\n",
    "warnings.filterwarnings(\"ignore\", category=DeprecationWarning)\n",
    "\n",
    "# Paths, Make sure the elastix folder etc. is included in your current working directory\n",
    "paths = open(os.getcwd() + r\"\\\\paths.txt\").read().splitlines()\n",
    "ELASTIX_PATH, TRANSFORMIX_PATH, DATA_PATH ,OUTPUT_DIR = paths\n",
    "\n",
    "if not os.path.exists(ELASTIX_PATH):\n",
    "    raise IOError('Elastix cannot be found, please set the correct ELASTIX_PATH.')\n",
    "if not os.path.exists(TRANSFORMIX_PATH):\n",
    "    raise IOError('Transformix cannot be found, please set the correct TRANSFORMIX_PATH.')"
   ]
  },
  {
   "cell_type": "markdown",
   "metadata": {
    "collapsed": false
   },
   "source": [
    "# Visualize the atlas images"
   ]
  },
  {
   "cell_type": "code",
   "execution_count": null,
   "metadata": {
    "collapsed": false
   },
   "outputs": [],
   "source": [
    "# Get patient names and select atlas patients\n",
    "patient_list = [patient for patient in os.listdir(DATA_PATH) if os.path.isdir(os.path.join(DATA_PATH, patient))]\n",
    "atlas_patients = patient_list[:5]\n",
    "\n",
    "# Load images\n",
    "atlas_images = []\n",
    "delineation_images = []\n",
    "\n",
    "for patient in atlas_patients:\n",
    "    fixed_image_path = os.path.join(DATA_PATH, patient, 'mr_bffe.mhd')\n",
    "    delineation_image_path = os.path.join(DATA_PATH, patient, 'prostaat.mhd')\n",
    "\n",
    "    fixed_image = sitk.ReadImage(fixed_image_path)\n",
    "    delineation_image = sitk.ReadImage(delineation_image_path)\n",
    "\n",
    "    atlas_images.append(sitk.GetArrayFromImage(fixed_image))\n",
    "    delineation_images.append(sitk.GetArrayFromImage(delineation_image))\n",
    "\n",
    "# Get image depth (number of slices)\n",
    "num_slices = atlas_images[0].shape[0]  # Assumes all images have the same depth\n",
    "\n",
    "# Create the figure and axes\n",
    "fig, axes = plt.subplots(2, len(atlas_patients), figsize=(2.5 * len(atlas_patients), 5))\n",
    "\n",
    "# Initial display with middle slice\n",
    "initial_slice = num_slices // 2\n",
    "image_plots = []\n",
    "\n",
    "for patient_id in range(len(atlas_patients)):\n",
    "    img1 = axes[0, patient_id].imshow(atlas_images[patient_id][initial_slice, :, :], cmap='gray')\n",
    "    axes[0, patient_id].set_title(f'Fixed atlas Image ({atlas_patients[patient_id]})')\n",
    "    axes[0, patient_id].axis('off')\n",
    "\n",
    "    img2 = axes[1, patient_id].imshow(delineation_images[patient_id][initial_slice, :, :], cmap='gray')\n",
    "    axes[1, patient_id].set_title(f'Prostate delineation ({atlas_patients[patient_id]})')\n",
    "    axes[1, patient_id].axis('off')\n",
    "\n",
    "    image_plots.append((img1, img2))\n",
    "\n",
    "plt.tight_layout()\n",
    "\n",
    "# Define slider\n",
    "slice_slider = widgets.IntSlider(min=0, max=num_slices - 1, step=1, value=initial_slice, description=\"Slice\")\n",
    "\n",
    "\n",
    "def update(slice_idx):\n",
    "    for patient_id in range(len(atlas_patients)):\n",
    "        image_plots[patient_id][0].set_data(atlas_images[patient_id][slice_idx, :, :])\n",
    "        image_plots[patient_id][1].set_data(delineation_images[patient_id][slice_idx, :, :])\n",
    "    fig.canvas.draw_idle()\n",
    "    plt.pause(0.1)  # Forces an update\n",
    "\n",
    "# Create interactive widget\n",
    "interactive_plot = widgets.interactive(update, slice_idx=slice_slider)\n",
    "\n",
    "# Display the interactive widget (this ensures the function updates properly)\n",
    "display(interactive_plot)\n",
    "\n",
    "plt.show()"
   ]
  },
  {
   "cell_type": "markdown",
   "metadata": {
    "collapsed": false
   },
   "source": [
    "# Registering"
   ]
  },
  {
   "cell_type": "code",
   "execution_count": null,
   "metadata": {
    "collapsed": false
   },
   "outputs": [],
   "source": [
    "from atlas_registration_functions import register_transform\n",
    "register_patients = [patient for patient in patient_list if patient not in atlas_patients]\n",
    "\n",
    "for patient_id, patient in enumerate(register_patients[:2]):\n",
    "    transform_paths = []\n",
    "\n",
    "    #Register to all atlases\n",
    "    for atlas_id, atlas in enumerate(atlas_patients[:2]):\n",
    "        transformed_delineation_path = register_transform(patient, atlas, DATA_PATH, ELASTIX_PATH, TRANSFORMIX_PATH)\n",
    "        print(transformed_delineation_path)\n"
   ]
  }
 ],
 "metadata": {
  "kernelspec": {
   "display_name": "Python 3",
   "language": "python",
   "name": "python3"
  },
  "language_info": {
   "codemirror_mode": {
    "name": "ipython",
    "version": 3
   },
   "file_extension": ".py",
   "mimetype": "text/x-python",
   "name": "python",
   "nbconvert_exporter": "python",
   "pygments_lexer": "ipython3",
   "version": "3.10.5"
  }
 },
 "nbformat": 4,
 "nbformat_minor": 0
}
